{
 "cells": [
  {
   "cell_type": "code",
   "execution_count": 8,
   "id": "8ef2dc97",
   "metadata": {},
   "outputs": [],
   "source": [
    "import os\n",
    "os.environ[\"DJANGO_ALLOW_ASYNC_UNSAFE\"] = \"true\"\n",
    "from particle_readings.models import ParticleReading\n",
    "from datetime import datetime, timedelta\n",
    "from django.utils import timezone\n",
    "\n"
   ]
  },
  {
   "cell_type": "code",
   "execution_count": null,
   "id": "f961b794",
   "metadata": {},
   "outputs": [],
   "source": [
    "#datetime.datetime.now(tz=timezone.utc) # you can use this value"
   ]
  },
  {
   "cell_type": "code",
   "execution_count": 50,
   "id": "d7d95c1a",
   "metadata": {},
   "outputs": [],
   "source": [
    "date_now=datetime.now(tz=timezone.utc)"
   ]
  },
  {
   "cell_type": "code",
   "execution_count": 41,
   "id": "595b16d8",
   "metadata": {},
   "outputs": [
    {
     "data": {
      "text/plain": [
       "datetime.datetime(2022, 12, 29, 0, 28, 55, 56585, tzinfo=datetime.timezone.utc)"
      ]
     },
     "execution_count": 41,
     "metadata": {},
     "output_type": "execute_result"
    }
   ],
   "source": [
    "date_now"
   ]
  },
  {
   "cell_type": "code",
   "execution_count": 51,
   "id": "08bda7cf",
   "metadata": {},
   "outputs": [],
   "source": [
    "start_date= date_now - timedelta(minutes=5)"
   ]
  },
  {
   "cell_type": "code",
   "execution_count": 43,
   "id": "2797beb8",
   "metadata": {},
   "outputs": [
    {
     "data": {
      "text/plain": [
       "datetime.datetime(2022, 12, 29, 0, 23, 55, 56585, tzinfo=datetime.timezone.utc)"
      ]
     },
     "execution_count": 43,
     "metadata": {},
     "output_type": "execute_result"
    }
   ],
   "source": [
    "start_date"
   ]
  },
  {
   "cell_type": "code",
   "execution_count": null,
   "id": "767bb527",
   "metadata": {},
   "outputs": [],
   "source": []
  },
  {
   "cell_type": "code",
   "execution_count": 54,
   "id": "46eb6360",
   "metadata": {},
   "outputs": [],
   "source": [
    "objs = ParticleReading.objects.filter(created_at__gt=start_date, device_id='250019001247343339383037').count()"
   ]
  },
  {
   "cell_type": "code",
   "execution_count": 55,
   "id": "e656eddf",
   "metadata": {},
   "outputs": [
    {
     "data": {
      "text/plain": [
       "6"
      ]
     },
     "execution_count": 55,
     "metadata": {},
     "output_type": "execute_result"
    }
   ],
   "source": [
    "objs"
   ]
  },
  {
   "cell_type": "code",
   "execution_count": 53,
   "id": "e7884bc9",
   "metadata": {},
   "outputs": [
    {
     "name": "stdout",
     "output_type": "stream",
     "text": [
      "1322 250019001247343339383037 2022-12-29 00:53:03.465444+00:00\n",
      "1321 250019001247343339383037 2022-12-29 00:53:03.463684+00:00\n",
      "1318 250019001247343339383037 2022-12-29 00:53:03.337358+00:00\n",
      "1317 250019001247343339383037 2022-12-29 00:53:03.337150+00:00\n",
      "1319 250019001247343339383037 2022-12-29 00:53:03.460938+00:00\n",
      "1320 250019001247343339383037 2022-12-29 00:53:03.461188+00:00\n"
     ]
    }
   ],
   "source": [
    "for obj in objs:\n",
    "    print(obj.id, obj.device_id, obj.created_at)"
   ]
  },
  {
   "cell_type": "code",
   "execution_count": 20,
   "id": "1ee31c13",
   "metadata": {},
   "outputs": [
    {
     "data": {
      "text/plain": [
       "<asgiref.sync.AsyncToSync at 0x10f7f2f20>"
      ]
     },
     "execution_count": 20,
     "metadata": {},
     "output_type": "execute_result"
    }
   ],
   "source": [
    "y"
   ]
  },
  {
   "cell_type": "code",
   "execution_count": null,
   "id": "10bbd277",
   "metadata": {},
   "outputs": [],
   "source": []
  }
 ],
 "metadata": {
  "kernelspec": {
   "display_name": "Django Shell-Plus",
   "language": "python",
   "name": "django_extensions"
  },
  "language_info": {
   "codemirror_mode": {
    "name": "ipython",
    "version": 3
   },
   "file_extension": ".py",
   "mimetype": "text/x-python",
   "name": "python",
   "nbconvert_exporter": "python",
   "pygments_lexer": "ipython3",
   "version": "3.10.7"
  },
  "toc": {
   "base_numbering": 1,
   "nav_menu": {},
   "number_sections": true,
   "sideBar": true,
   "skip_h1_title": false,
   "title_cell": "Table of Contents",
   "title_sidebar": "Contents",
   "toc_cell": false,
   "toc_position": {},
   "toc_section_display": true,
   "toc_window_display": false
  }
 },
 "nbformat": 4,
 "nbformat_minor": 5
}
